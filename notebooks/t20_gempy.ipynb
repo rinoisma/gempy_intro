{
 "cells": [
  {
   "cell_type": "markdown",
   "metadata": {},
   "source": [
    "# Transform 2020: GemPy Workshop\n",
    "![](logos/gempy.png)\n",
    "\n",
    "## Table of Content\n",
    "\n",
    "- Installation - Welcome 10:00\n",
    "- Your first model 10:10\n",
    "- Modeling landscape by Prof. Wellmann ~10:30\n",
    "- Explaning data structures 1: Overview\n",
    "- Exercise: Finishing the model - 3 Extra layers ~11:00\n",
    "- Explaning data structures 2: Surfaces, Surface Points, Orientations\n",
    "- Unconformities and faults ~ 11:20\n",
    "- **Break**\n",
    "- Topography ~11:40\n",
    "- Forward gravity ~11:45\n",
    "- Probabilistic Modeling ~12:00\n",
    "\n",
    "\n",
    "## Installation\n",
    "\n",
    "1. Open conda prompt (Windows) or terminal (Linux/MacOS)\n",
    "2. `$ conda create --clone tutorials --name t20-gempy` -----my code = conda create --clone base --name t20-gempy\n",
    "0. Activate enviromet: `$ conda activate t20-gempy`\n",
    "3. https://docs.gempy.org/installation.html\n",
    "4. clone the repo:\n",
    "    `git clone https://github.com/cgre-aachen/gempy_intro.git`\n",
    "5. `$ jupyter notebook`\n",
    "\n",
    "## Your first model"
   ]
  },
  {
   "cell_type": "code",
   "execution_count": 1,
   "metadata": {
    "pycharm": {
     "name": "#%%\n"
    }
   },
   "outputs": [
    {
     "ename": "ModuleNotFoundError",
     "evalue": "No module named 'gempy'",
     "output_type": "error",
     "traceback": [
      "\u001b[1;31m---------------------------------------------------------------------------\u001b[0m",
      "\u001b[1;31mModuleNotFoundError\u001b[0m                       Traceback (most recent call last)",
      "\u001b[1;32m<ipython-input-1-01b864a42e87>\u001b[0m in \u001b[0;36m<module>\u001b[1;34m\u001b[0m\n\u001b[0;32m      1\u001b[0m \u001b[1;31m# Importing GemPy\u001b[0m\u001b[1;33m\u001b[0m\u001b[1;33m\u001b[0m\u001b[1;33m\u001b[0m\u001b[0m\n\u001b[1;32m----> 2\u001b[1;33m \u001b[1;32mimport\u001b[0m \u001b[0mgempy\u001b[0m \u001b[1;32mas\u001b[0m \u001b[0mgp\u001b[0m\u001b[1;33m\u001b[0m\u001b[1;33m\u001b[0m\u001b[0m\n\u001b[0m\u001b[0;32m      3\u001b[0m \u001b[1;33m\u001b[0m\u001b[0m\n\u001b[0;32m      4\u001b[0m \u001b[1;31m# Importing aux libraries\u001b[0m\u001b[1;33m\u001b[0m\u001b[1;33m\u001b[0m\u001b[1;33m\u001b[0m\u001b[0m\n\u001b[0;32m      5\u001b[0m \u001b[1;32mfrom\u001b[0m \u001b[0mipywidgets\u001b[0m \u001b[1;32mimport\u001b[0m \u001b[0minteract\u001b[0m\u001b[1;33m\u001b[0m\u001b[1;33m\u001b[0m\u001b[0m\n",
      "\u001b[1;31mModuleNotFoundError\u001b[0m: No module named 'gempy'"
     ]
    }
   ],
   "source": [
    "# Importing GemPy\n",
    "import gempy as gp\n",
    "\n",
    "# Importing aux libraries\n",
    "from ipywidgets import interact\n",
    "import numpy as np\n",
    "import matplotlib.image as mpimg\n",
    "\n",
    "# Embedding matplotlib figures in the notebooks\n",
    "%matplotlib qt5"
   ]
  },
  {
   "cell_type": "markdown",
   "metadata": {},
   "source": [
    "### Initializing the model... But first a word about Grids:\n",
    "\n",
    "The first step to create a GemPy model is create a `gempy.Model` object that will\n",
    "contain all the other data structures and necessary functionality. In addition\n",
    " for this example we will define a *regular grid* since the beginning.\n",
    "This is the grid where we will interpolate the 3D geological model.\n",
    "\n",
    "GemPy is based on a **meshless interpolator**. In practice this means that we can\n",
    "interpolate any point in a 3D space. However, for convenience, we have built some\n",
    "standard grids for different purposes. At the current day the standard grids are:\n",
    "\n",
    "- **Regular grid**: default grid mainly for general visualization\n",
    "- **Custom grid**: GemPy's wrapper to interpolate on a user grid\n",
    "- **Topography**: Topographic data use to be of high density. Treating it as an independent\n",
    "  grid allow for high resolution geological maps\n",
    "- **Sections**: If we predefine the section 2D grid we can directly interpolate at those\n",
    "  locations for perfect, high resolution estimations\n",
    "- **Center grids**: Half sphere grids around a given point at surface. This are specially tuned\n",
    "  for geophysical forward computations\n",
    "\n",
    "For now we will use a 2.5D regular grid"
   ]
  },
  {
   "cell_type": "code",
   "execution_count": null,
   "metadata": {
    "pycharm": {
     "name": "#%%\n"
    }
   },
   "outputs": [],
   "source": [
    "geo_model = gp.create_model('Transform-2020')\n",
    "geo_model = gp.init_data(geo_model,\n",
    "                         extent= [0, 791, 0, 200, -582, 0], # of the regular grid\n",
    "                         resolution=[100, 10, 100])         # of the regular grid"
   ]
  },
  {
   "cell_type": "markdown",
   "metadata": {},
   "source": [
    "GemPy core code is written in Python. However for efficiency and gradient based\n",
    "machine learning most of heavy computations happen in optimize compile code,\n",
    " either C or CUDA for GPU.\n",
    "\n",
    "To do so, GemPy rely on the library `Theano`. To guarantee maximum optimization\n",
    "`Theano` requires to compile the code for every Python kernel. The compilation is\n",
    "done by calling the following line at any point (before computing the model):"
   ]
  },
  {
   "cell_type": "code",
   "execution_count": null,
   "metadata": {
    "pycharm": {
     "name": "#%%\n"
    }
   },
   "outputs": [],
   "source": [
    "gp.set_interpolator(\n",
    "    geo_model,\n",
    "    output=['geology'], # In built outputs. More about this later on\n",
    "    theano_optimizer='fast_compile') # alternatives: 'fast_run' or\n",
    "                                     # check http://deeplearning.net/software/theano/tutorial/modes.html                        "
   ]
  },
  {
   "cell_type": "markdown",
   "metadata": {},
   "source": [
    "### Creating figure:\n",
    "\n",
    "GemPy uses `matplotlib` and `pyvista` for 2d and 3d visualization of the model respectively. One of the\n",
    "design decisions of GemPy is to allow real time construction of the model. What this means is that you can start\n",
    "adding input data and see in real time how the 3D surfaces evolve. Lets initialize the visualization windows.\n",
    "\n",
    "The first one is the 2d figure. Just place the window where you can see it (maybe move the jupyter notebook to half\n",
    "screen and use the other half for the renderers)."
   ]
  },
  {
   "cell_type": "code",
   "execution_count": null,
   "metadata": {
    "pycharm": {
     "name": "#%%\n"
    }
   },
   "outputs": [],
   "source": [
    "p2d = gp.plot_2d(geo_model, section_names=None,\n",
    "                 direction=None, cell_number=None)"
   ]
  },
  {
   "cell_type": "markdown",
   "metadata": {},
   "source": [
    "#### Add model section\n",
    "\n",
    "In the 2d renderer we can add several cross section of the model. In this case, for simplicity sake we are just\n",
    "adding one perpendicular to y."
   ]
  },
  {
   "cell_type": "code",
   "execution_count": null,
   "metadata": {
    "pycharm": {
     "name": "#%%\n"
    }
   },
   "outputs": [],
   "source": [
    "# In this case perpendicular to the y axes\n",
    "ax = p2d.add_section(cell_number=1, direction='y')"
   ]
  },
  {
   "cell_type": "markdown",
   "metadata": {},
   "source": [
    "#### Loading cross-section image:\n",
    "\n",
    "Remember that `gempy` is simply using `matplotlib` and therefore the ax object\n",
    " created above is a standard `matplotlib` axes.\n",
    "\n",
    "Lets load an image with the information of couple of boreholes"
   ]
  },
  {
   "cell_type": "code",
   "execution_count": null,
   "metadata": {
    "pycharm": {
     "name": "#%%\n"
    }
   },
   "outputs": [],
   "source": [
    "# Reading image\n",
    "img = mpimg.imread('wells.png')\n",
    "# Plotting it inplace\n",
    "ax.imshow(img, origin='upper', alpha=.8, extent = (0, 791, -582,0))"
   ]
  },
  {
   "cell_type": "markdown",
   "metadata": {},
   "source": [
    "We can do the same in 3D through `pyvista` and vtk rendering.\n",
    "\n",
    "Click the qt5 button Back (+Y) to have the same view as in the 2D viewer:"
   ]
  },
  {
   "cell_type": "code",
   "execution_count": null,
   "metadata": {
    "pycharm": {
     "name": "#%%\n"
    }
   },
   "outputs": [],
   "source": [
    "p3d = gp.plot_3d(geo_model, plotter_type='background', notebook=False)"
   ]
  },
  {
   "cell_type": "markdown",
   "metadata": {},
   "source": [
    "## Building the model\n",
    "\n",
    "Now that we have the model initialize and the 2D and 3D render in place we can\n",
    " start the construction of the geological model. \n",
    "\n",
    "### Surfaces\n",
    "\n",
    "GemPy is a surface based interpolator. This means that all the input data we add has to be refereed to a surface. The\n",
    " surfaces always mark the **bottom** of a unit. \n",
    " \n",
    " By default GemPy surfaces are empty:"
   ]
  },
  {
   "cell_type": "code",
   "execution_count": null,
   "metadata": {
    "pycharm": {
     "name": "#%%\n"
    }
   },
   "outputs": [],
   "source": [
    "geo_model.surfaces"
   ]
  },
  {
   "cell_type": "markdown",
   "metadata": {},
   "source": [
    "If we do not care about the names and we just want to interpolate a surface we can use.\n",
    "It is important to notice that **the bottom\n",
    "most layer will be considered always basement and therefore not interpolated**. Still\n",
    "we can add values or change the color of that \"surface\" (for lack of a better name) to\n",
    "populate the lower most volume.\n"
   ]
  },
  {
   "cell_type": "code",
   "execution_count": null,
   "metadata": {
    "pycharm": {
     "name": "#%%\n"
    }
   },
   "outputs": [],
   "source": [
    "# Default surfaces:\n",
    "geo_model.set_default_surfaces()"
   ]
  },
  {
   "cell_type": "markdown",
   "metadata": {},
   "source": [
    "We will see more about data structures below.\n",
    "\n",
    "Now we can start adding data. GemPy input data consist on surface points and\n",
    "orientations (perpendicular to the layers). The 2D plot gives you the X and Z coordinates when hovering the mouse\n",
    " over. We can add a surface point as follows:\n"
   ]
  },
  {
   "cell_type": "code",
   "execution_count": null,
   "metadata": {
    "pycharm": {
     "name": "#%%\n"
    }
   },
   "outputs": [],
   "source": [
    "# Add a point. If idx is None, next available index will be used. Here we pass it\n",
    "# explicitly for consistency\n",
    "geo_model.add_surface_points(X=223, Y=0.01, Z=-94, surface='surface1', idx=0)\n",
    "\n",
    "# Plot in 2D\n",
    "p2d.plot_data(ax, cell_number=11)\n",
    "\n",
    "# Plot in 3D\n",
    "p3d.plot_data()"
   ]
  },
  {
   "cell_type": "markdown",
   "metadata": {},
   "source": [
    "Now we can add the other two points of the layer:"
   ]
  },
  {
   "cell_type": "code",
   "execution_count": null,
   "metadata": {
    "pycharm": {
     "name": "#%%\n"
    }
   },
   "outputs": [],
   "source": [
    "# Add points\n",
    "geo_model.add_surface_points(X=458, Y=0, Z=-107, surface='surface1', idx=1)\n",
    "geo_model.add_surface_points(X=612, Y=0, Z=-14, surface='surface1', idx=2)\n",
    "\n",
    "# Plotting\n",
    "p2d.plot_data(ax, cell_number=11)\n",
    "p3d.plot_surface_points()"
   ]
  },
  {
   "cell_type": "code",
   "execution_count": null,
   "metadata": {},
   "outputs": [],
   "source": [
    "geo_model.surface_points"
   ]
  },
  {
   "cell_type": "markdown",
   "metadata": {},
   "source": [
    "The **minimum amount of input data** to interpolate anything in `gempy` is:\n",
    "\n",
    "a) 2 surface points per surface\n",
    "\n",
    "b) One orientation per series.\n",
    "\n",
    "Lets add an orientation anywhere in space:"
   ]
  },
  {
   "cell_type": "code",
   "execution_count": null,
   "metadata": {
    "pycharm": {
     "name": "#%%\n"
    }
   },
   "outputs": [],
   "source": [
    "# Adding orientation\n",
    "geo_model.add_orientations(X=350, Y=0, Z=-300, surface='surface1',\n",
    "                           pole_vector= (0,0,1))\n",
    "p2d.plot_data(ax, cell_number=5)\n",
    "p3d.plot_data()"
   ]
  },
  {
   "cell_type": "markdown",
   "metadata": {},
   "source": [
    "Now we have enough data to finally **interpolate**!"
   ]
  },
  {
   "cell_type": "code",
   "execution_count": null,
   "metadata": {
    "pycharm": {
     "name": "#%%\n"
    }
   },
   "outputs": [],
   "source": [
    "gp.compute_model(geo_model)"
   ]
  },
  {
   "cell_type": "markdown",
   "metadata": {},
   "source": [
    "That is, we have interpolated the 3D surface. We can visualize with:"
   ]
  },
  {
   "cell_type": "code",
   "execution_count": null,
   "metadata": {
    "pycharm": {
     "name": "#%%\n"
    }
   },
   "outputs": [],
   "source": [
    "# In 2D\n",
    "p2d.plot_contacts(ax, cell_number=5)\n",
    "\n",
    "# In 3D\n",
    "p3d.plot_surfaces()\n",
    "p3d.plot_structured_grid()"
   ]
  },
  {
   "cell_type": "code",
   "execution_count": null,
   "metadata": {},
   "outputs": [],
   "source": [
    "geo_model.surfaces"
   ]
  },
  {
   "cell_type": "markdown",
   "metadata": {},
   "source": [
    "Congratulations! You have learnt how to create a surface. From here on, we will\n",
    "learn how to combine multiple surfaces to little by little construct a full realize\n",
    "3D structural model.\n",
    "\n",
    "-----------\n",
    "## Intermission: GemPy data classes\n",
    "\n",
    "GemPy depends on multiple data objects to store all the data structures necessary\n",
    "to construct an structural model. To keep all the necessary objects in sync the\n",
    "class `gempy.ImplicitCoKriging` (which `geo_model` is instance of) will provide the\n",
    "necessary methods to update these data structures coherently.\n",
    "\n",
    "At current state (gempy 2.2), the data classes are:\n",
    "\n",
    "- `gempy.SurfacePoints`\n",
    "- `gempy.Orientations`\n",
    "- `gempy.Surfaces`\n",
    "- `gempy.Stack` (combination of `gempy.Series` and `gempy.Faults`)\n",
    "- `gempy.Grid`\n",
    "- `gempy.AdditionalData`\n",
    "- `gempy.Solutions`\n",
    "\n",
    "Today we will look into details only some of these classes but what is important\n",
    "to notice is that you can access these objects as follows:"
   ]
  },
  {
   "cell_type": "code",
   "execution_count": null,
   "metadata": {
    "pycharm": {
     "name": "#%%\n"
    }
   },
   "outputs": [],
   "source": [
    "# The default surfaces once again\n",
    "geo_model.surfaces"
   ]
  },
  {
   "cell_type": "code",
   "execution_count": null,
   "metadata": {
    "pycharm": {
     "name": "#%%\n"
    }
   },
   "outputs": [],
   "source": [
    "# Also the surface points"
   ]
  },
  {
   "cell_type": "code",
   "execution_count": null,
   "metadata": {},
   "outputs": [],
   "source": [
    "# Orientations"
   ]
  },
  {
   "cell_type": "code",
   "execution_count": null,
   "metadata": {
    "pycharm": {
     "name": "#%%\n"
    }
   },
   "outputs": [],
   "source": [
    "# To find the location of the surface we just plot\n",
    "geo_model.solutions.vertices"
   ]
  },
  {
   "cell_type": "code",
   "execution_count": null,
   "metadata": {
    "pycharm": {
     "name": "#%%\n"
    }
   },
   "outputs": [],
   "source": [
    "# The grid values:\n",
    "geo_model.grid, len(geo_model.grid.values)"
   ]
  },
  {
   "cell_type": "code",
   "execution_count": null,
   "metadata": {
    "pycharm": {
     "name": "#%%\n"
    }
   },
   "outputs": [],
   "source": [
    "# And its correspondent ids:\n",
    "geo_model.solutions.lith_block, len(geo_model.solutions.lith_block)"
   ]
  },
  {
   "cell_type": "markdown",
   "metadata": {},
   "source": [
    "------\n",
    "\n",
    "## Adding more layers\n",
    "\n",
    "<div class=\"alert alert-block alert-warning\">\n",
    "<b>Exercise:</b> So far we only need 2 units defined. The cross-section image that\n",
    " we load have 4 however. Lets add two layers more:\n",
    "</div>"
   ]
  },
  {
   "cell_type": "markdown",
   "metadata": {},
   "source": [
    "### Layer 2\n",
    "\n",
    "First we need to add some more layers."
   ]
  },
  {
   "cell_type": "code",
   "execution_count": null,
   "metadata": {
    "pycharm": {
     "name": "#%%\n"
    }
   },
   "outputs": [],
   "source": [
    "# We can add already two extra surfaces\n"
   ]
  },
  {
   "cell_type": "code",
   "execution_count": null,
   "metadata": {
    "pycharm": {
     "name": "#%%\n"
    }
   },
   "outputs": [],
   "source": [
    "\n",
    "\n",
    "#--------------------\n",
    "# Plot data\n"
   ]
  },
  {
   "cell_type": "code",
   "execution_count": null,
   "metadata": {
    "pycharm": {
     "name": "#%%\n"
    }
   },
   "outputs": [],
   "source": [
    "# Compute model\n",
    "\n",
    "\n",
    "# Plot 2D\n",
    "\n",
    "\n",
    "# Plot 3D\n"
   ]
  },
  {
   "cell_type": "markdown",
   "metadata": {},
   "source": [
    "### Layer 3"
   ]
  },
  {
   "cell_type": "code",
   "execution_count": null,
   "metadata": {
    "pycharm": {
     "name": "#%%\n"
    }
   },
   "outputs": [],
   "source": [
    "# Your code here:\n",
    "# Add points\n",
    "\n",
    "\n",
    "# Compute model\n",
    "\n",
    "\n",
    "# Plotting\n",
    "p2d.plot_data(ax, cell_number=5)\n",
    "p2d.plot_lith(ax, cell_number=5)\n",
    "p2d.plot_contacts(ax, cell_number=5)\n",
    "\n",
    "p3d.plot_surfaces()\n",
    "p3d.plot_structured_grid(opacity=.2, annotations = {1: 'surface1', 2:'surface2', 3:'surface3', 4:'basement'})\n",
    "p3d.plot_data()\n",
    "# ------------------"
   ]
  },
  {
   "cell_type": "code",
   "execution_count": null,
   "metadata": {},
   "outputs": [],
   "source": [
    "# Showing scalar field\n"
   ]
  },
  {
   "cell_type": "code",
   "execution_count": null,
   "metadata": {
    "pycharm": {
     "name": "#%%\n"
    }
   },
   "outputs": [],
   "source": [
    "# gp.save_model_to_pickle(geo_model, 'checkpoint1')"
   ]
  },
  {
   "cell_type": "markdown",
   "metadata": {},
   "source": [
    "-------------------\n",
    "## Intermission: GemPy data structures: Surfaces Points, Orientations and surfaces\n",
    "\n",
    "On GemPy each surface is not independent of each other. Some surfaces will be\n",
    "subparallel to each other while other surfaces will define a fault plane where\n",
    "an offset may occur.\n",
    "\n",
    "In order to account for all possible combinations, we use **categories** (in many\n",
    "instances literal `pandas.CategoricalDtype`) and **ordered** `pandas.Dataframes`.\n",
    "Let's take a look at `gempy.SurfacePoints`:"
   ]
  },
  {
   "cell_type": "code",
   "execution_count": null,
   "metadata": {
    "pycharm": {
     "name": "#%%\n"
    }
   },
   "outputs": [],
   "source": [
    "geo_model.surface_points"
   ]
  },
  {
   "cell_type": "markdown",
   "metadata": {},
   "source": [
    "As we can see each point belong to a given surface. If now we look at the\n",
    "`gempy.Surface` object:"
   ]
  },
  {
   "cell_type": "code",
   "execution_count": null,
   "metadata": {
    "pycharm": {
     "name": "#%%\n"
    }
   },
   "outputs": [],
   "source": [
    "geo_model.surfaces"
   ]
  },
  {
   "cell_type": "markdown",
   "metadata": {},
   "source": [
    "Here we can find the properties related to a each surface. Special attention\n",
    "to the column series. At the moment all surfaces belong to the same series\n",
    "and therefore they will be interpolated together in that characteristic subparallel\n",
    "pattern.\n",
    "\n",
    "Now we will see how by playing with the series we can define unconformities and\n",
    "faults"
   ]
  },
  {
   "cell_type": "markdown",
   "metadata": {},
   "source": [
    "--------------"
   ]
  },
  {
   "cell_type": "markdown",
   "metadata": {},
   "source": [
    "<div class=\"alert alert-block alert-info\"><b>Checkpoint:</b> Next cell will load the\n",
    "model from disk to the necessary state to continue.</div>"
   ]
  },
  {
   "cell_type": "code",
   "execution_count": null,
   "metadata": {
    "pycharm": {
     "name": "#%%\n"
    }
   },
   "outputs": [],
   "source": [
    "geo_model = gp.load_model_pickle('checkpoint1.pickle')\n",
    "\n",
    "# Default plotting setting\n",
    "p2d = gp.plot_2d(geo_model)\n",
    "ax = p2d.axes[0]\n",
    "# Reading image\n",
    "img = mpimg.imread('wells.png')\n",
    "# Plotting it inplace\n",
    "ax.imshow(img, origin='upper', alpha=.8, extent = (0, 791, -582,0))\n",
    "p3d = gp.plot_3d(geo_model, plotter_type='background')"
   ]
  },
  {
   "cell_type": "markdown",
   "metadata": {},
   "source": [
    "---------\n",
    "## Unconformities and Faults:\n",
    "\n",
    "So far the model is simply a depositional unit. GemPy allows for unconformities\n",
    "and faults to build complex models. This input is given by categorical data. In general:\n",
    "\n",
    "**Geometric Data** (surface points/ orientations) <belong to< **surface** <belong to< **series**\n",
    "\n",
    "And series can be a fault---i.e. offset the rest of surface--- or not. We are going to show how to add a fault as an example.\n",
    "\n",
    "First we need to add a series:\n",
    "\n",
    "### Erosion"
   ]
  },
  {
   "cell_type": "code",
   "execution_count": null,
   "metadata": {
    "pycharm": {
     "name": "#%%\n"
    }
   },
   "outputs": [],
   "source": [
    "# Add feature\n"
   ]
  },
  {
   "cell_type": "markdown",
   "metadata": {},
   "source": [
    "Now there are two different series/features but not a surface that belong to it.\n",
    "Therefore, we also need to add a new surface:"
   ]
  },
  {
   "cell_type": "code",
   "execution_count": null,
   "metadata": {
    "pycharm": {
     "name": "#%%\n"
    }
   },
   "outputs": [],
   "source": [
    "# Add surface\n"
   ]
  },
  {
   "cell_type": "markdown",
   "metadata": {},
   "source": [
    "Linking series/feature with surface:"
   ]
  },
  {
   "cell_type": "code",
   "execution_count": null,
   "metadata": {
    "pycharm": {
     "name": "#%%\n"
    }
   },
   "outputs": [],
   "source": [
    "# Map features and surfaces\n"
   ]
  },
  {
   "cell_type": "markdown",
   "metadata": {},
   "source": [
    "Notice that by default it is defining an erosion."
   ]
  },
  {
   "cell_type": "code",
   "execution_count": null,
   "metadata": {
    "pycharm": {
     "name": "#%%\n"
    }
   },
   "outputs": [],
   "source": [
    "# Ordering\n"
   ]
  },
  {
   "cell_type": "code",
   "execution_count": null,
   "metadata": {},
   "outputs": [],
   "source": [
    "# Surfaces also change"
   ]
  },
  {
   "cell_type": "markdown",
   "metadata": {},
   "source": [
    "Now we can just add input data as before (remember the minimum amount of input data to compute a model):"
   ]
  },
  {
   "cell_type": "code",
   "execution_count": null,
   "metadata": {
    "pycharm": {
     "name": "#%%\n"
    }
   },
   "outputs": [],
   "source": [
    "# Add input data of the fault\n",
    "geo_model.add_surface_points(X=550, Y=0, Z=-30, surface='discontinuity1')\n",
    "geo_model.add_surface_points(X=650, Y=0, Z=-200, surface='discontinuity1')\n",
    "geo_model.add_orientations(X=600, Y=0, Z= -100, surface='discontinuity1',\n",
    "                           pole_vector=(.3,0,.3))\n",
    "# Plot\n",
    "p2d.remove(ax)\n",
    "p2d.plot_data(ax, cell_number=5)\n",
    "p3d.remove_actor(p3d.regular_grid_actor) # Removing the previous regular grid because\n",
    "                                         # we are changing the colors and gets messy\n",
    "p3d.plot_data()"
   ]
  },
  {
   "cell_type": "markdown",
   "metadata": {},
   "source": [
    "If we compute now the model the purple plane will erode the previous surfaces\n",
    "and layers:"
   ]
  },
  {
   "cell_type": "code",
   "execution_count": null,
   "metadata": {
    "pycharm": {
     "name": "#%%\n"
    }
   },
   "outputs": [],
   "source": [
    "# Compute\n",
    "gp.compute_model(geo_model)\n",
    "\n",
    "# Plot\n",
    "p2d.remove(ax)\n",
    "p2d.plot_data(ax, cell_number=5)\n",
    "p2d.plot_lith(ax, cell_number=5)\n",
    "p2d.plot_contacts(ax, cell_number=5)\n",
    "\n",
    "p3d.plot_data()\n",
    "p3d.plot_surfaces()\n",
    "p3d.plot_structured_grid(opacity=.2)"
   ]
  },
  {
   "cell_type": "markdown",
   "metadata": {},
   "source": [
    "### Onlap\n",
    "\n",
    "If the relation should be onlap we just need to change the type of series/feature\n",
    "of discontinuity"
   ]
  },
  {
   "cell_type": "code",
   "execution_count": null,
   "metadata": {
    "pycharm": {
     "name": "#%%\n"
    }
   },
   "outputs": [],
   "source": [
    "\n",
    "\n",
    "# Compute\n",
    "gp.compute_model(geo_model)\n",
    "\n",
    "# Plot\n",
    "p2d.remove(ax)\n",
    "p2d.plot_data(ax, cell_number=5)\n",
    "p2d.plot_lith(ax, cell_number=5)\n",
    "p2d.plot_contacts(ax, cell_number=5)\n",
    "\n",
    "p3d.plot_data()\n",
    "p3d.plot_surfaces()\n",
    "p3d.plot_structured_grid(opacity=.2, annotations = {2: 'surface1', 3:'surface2',\n",
    "                                                    4:'surface3', 5:'basement'})"
   ]
  },
  {
   "cell_type": "markdown",
   "metadata": {},
   "source": [
    "### Fault\n",
    "\n",
    "Then define that is a fault. It is possible to do this either by the `set_bottom_relation`\n",
    "method or `set_is_fault`."
   ]
  },
  {
   "cell_type": "code",
   "execution_count": null,
   "metadata": {
    "pycharm": {
     "name": "#%%\n"
    }
   },
   "outputs": [],
   "source": []
  },
  {
   "cell_type": "markdown",
   "metadata": {},
   "source": [
    "And now is computing as before:"
   ]
  },
  {
   "cell_type": "code",
   "execution_count": null,
   "metadata": {
    "pycharm": {
     "name": "#%%\n"
    }
   },
   "outputs": [],
   "source": [
    "# Compute\n",
    "gp.compute_model(geo_model)\n",
    "\n",
    "# Plot\n",
    "p2d.remove(ax)\n",
    "p2d.plot_data(ax, cell_number=5)\n",
    "p2d.plot_lith(ax, cell_number=5)\n",
    "p2d.plot_contacts(ax, cell_number=5)\n",
    "\n",
    "p3d.plot_data()\n",
    "p3d.plot_surfaces()\n",
    "p3d.plot_structured_grid(opacity=.2, annotations = {2: 'surface1', 3:'surface2',\n",
    "                                                    4:'surface3', 5:'basement'})"
   ]
  },
  {
   "cell_type": "markdown",
   "metadata": {},
   "source": [
    "By using multiple series/features instead of having folding layers we can have sharp\n",
    " interfaces. This opens"
   ]
  },
  {
   "cell_type": "markdown",
   "metadata": {},
   "source": [
    "## Additional features:\n",
    "\n",
    "Over the years we have built a bunch of assets integrate with `gempy`.\n",
    " Here we will show some of them:\n",
    "\n",
    "### Topography\n",
    "\n",
    "GemPy has a built-in capabilities to read and manipulate topographic data (through gdal).\n",
    " To show an example we can just create a random topography:"
   ]
  },
  {
   "cell_type": "code",
   "execution_count": null,
   "metadata": {
    "pycharm": {
     "name": "#%%\n"
    }
   },
   "outputs": [],
   "source": [
    "## Adding random topography\n"
   ]
  },
  {
   "cell_type": "markdown",
   "metadata": {},
   "source": [
    "The topography can we visualize in both renderers:"
   ]
  },
  {
   "cell_type": "code",
   "execution_count": null,
   "metadata": {
    "pycharm": {
     "name": "#%%\n"
    }
   },
   "outputs": [],
   "source": [
    "p2d.plot_topography(ax, cell_number=5)\n",
    "p3d.plot_topography(scalars='topography')"
   ]
  },
  {
   "cell_type": "markdown",
   "metadata": {},
   "source": [
    "But also allows us to compute the geological map of an area:"
   ]
  },
  {
   "cell_type": "code",
   "execution_count": null,
   "metadata": {
    "pycharm": {
     "name": "#%%\n"
    }
   },
   "outputs": [],
   "source": [
    "gp.compute_model(geo_model)\n",
    "p3d.plot_surfaces()\n",
    "p3d.plot_topography()"
   ]
  },
  {
   "cell_type": "code",
   "execution_count": null,
   "metadata": {
    "pycharm": {
     "name": "#%%\n"
    }
   },
   "outputs": [],
   "source": [
    "p3d.plot_structured_grid()"
   ]
  },
  {
   "cell_type": "code",
   "execution_count": null,
   "metadata": {
    "pycharm": {
     "name": "#%%\n"
    }
   },
   "outputs": [],
   "source": [
    "# gp.save_model_to_pickle(geo_model, 'checkpoint2')"
   ]
  },
  {
   "cell_type": "markdown",
   "metadata": {},
   "source": [
    "--------------"
   ]
  },
  {
   "cell_type": "markdown",
   "metadata": {},
   "source": [
    "<div class=\"alert alert-block alert-info\"><b>Checkpoint:</b> Next cell will load the\n",
    "model from disk to the necessary state to continue.</div>"
   ]
  },
  {
   "cell_type": "code",
   "execution_count": null,
   "metadata": {
    "pycharm": {
     "name": "#%%\n"
    }
   },
   "outputs": [],
   "source": [
    "geo_model = gp.load_model_pickle('checkpoint2.pickle')\n",
    "\n",
    "# Default plotting setting\n",
    "p2d = gp.plot_2d(geo_model)\n",
    "ax = p2d.axes[0]\n",
    "# Reading image\n",
    "img = mpimg.imread('wells.png')\n",
    "# Plotting it inplace\n",
    "ax.imshow(img, origin='upper', alpha=.8, extent = (0, 791, -582,0))\n",
    "p3d = gp.plot_3d(geo_model, plotter_type='background', show_topography=True)\n"
   ]
  },
  {
   "cell_type": "markdown",
   "metadata": {},
   "source": [
    "### Forward gravity\n",
    "\n",
    "GemPy also allows for inversions. We can see a small demo how this works.\n",
    "\n",
    "The first thing to do is to assign densities to each of the units:"
   ]
  },
  {
   "cell_type": "code",
   "execution_count": null,
   "metadata": {
    "pycharm": {
     "name": "#%%\n"
    }
   },
   "outputs": [],
   "source": []
  },
  {
   "cell_type": "markdown",
   "metadata": {},
   "source": [
    "Also we can create a centered grid around a device for precision:"
   ]
  },
  {
   "cell_type": "code",
   "execution_count": null,
   "metadata": {
    "pycharm": {
     "name": "#%%\n"
    }
   },
   "outputs": [],
   "source": []
  },
  {
   "cell_type": "code",
   "execution_count": null,
   "metadata": {
    "pycharm": {
     "name": "#%%\n"
    }
   },
   "outputs": [],
   "source": [
    "from aux_func import plot_centered_grid\n",
    "plot_centered_grid(geo_model.grid.centered_grid)"
   ]
  },
  {
   "cell_type": "markdown",
   "metadata": {},
   "source": [
    "We need to modify the graph to add the branch of algebra necessary to compute\n",
    " gravity from prisms. This also means that we need to recompile the `theano`\n",
    " function:"
   ]
  },
  {
   "cell_type": "code",
   "execution_count": null,
   "metadata": {
    "pycharm": {
     "name": "#%%\n"
    }
   },
   "outputs": [],
   "source": []
  },
  {
   "cell_type": "markdown",
   "metadata": {},
   "source": [
    "But now additionally to the interpolation we also compute the forward gravity of\n",
    " the model (at the point XYZ = 400, 0, 0)"
   ]
  },
  {
   "cell_type": "code",
   "execution_count": null,
   "metadata": {
    "pycharm": {
     "name": "#%%\n"
    }
   },
   "outputs": [],
   "source": [
    "gp.compute_model(geo_model)\n",
    "geo_model.solutions.fw_gravity"
   ]
  },
  {
   "cell_type": "markdown",
   "metadata": {},
   "source": [
    "We can visualize it it better in the following figure. The aim of an inversion is to find the set of parameters that \n",
    "fit a measured point the better. In this example the red x symbolize the measured gravity while  the blue dots are \n",
    "the current gravity (and previous) fw gravity values.  The widget moves up and down the surface 3"
   ]
  },
  {
   "cell_type": "code",
   "execution_count": null,
   "metadata": {
    "pycharm": {
     "name": "#%%\n"
    }
   },
   "outputs": [],
   "source": [
    "from aux_func import plot_grav_inter\n",
    "grav_invert = plot_grav_inter(geo_model)"
   ]
  },
  {
   "cell_type": "code",
   "execution_count": null,
   "metadata": {
    "pycharm": {
     "name": "#%%\n"
    }
   },
   "outputs": [],
   "source": [
    "interact(grav_invert, dz=(-200, 200, 10))"
   ]
  },
  {
   "cell_type": "code",
   "execution_count": null,
   "metadata": {
    "pycharm": {
     "name": "#%%\n"
    }
   },
   "outputs": [],
   "source": [
    "# gp.save_model_to_pickle(geo_model, 'checkpoint3')"
   ]
  },
  {
   "cell_type": "markdown",
   "metadata": {},
   "source": [
    "-----------\n",
    "\n",
    "<div class=\"alert alert-block alert-info\"><b>Checkpoint:</b> Next cell will load the\n",
    "model from disk to the necessary state to continue.</div>\n",
    "\n",
    "___________\n",
    "\n",
    "## Probabilistic Modeling\n",
    "\n",
    "When dealing with geological data, uncertainty is always present. Device precision\n",
    "and error, interpretations or extrapolations, the sources of uncertainty are\n",
    "many and very heterogeneous. Probabilistic modeling enable to capture some\n",
    "of this epistemic uncertainty - i.e. lack of knowledge - into **aleatoric** uncertainty\n",
    "that we can represent by probability distributions.\n",
    "\n",
    "In this tutorial be will introduce some basic concepts and building blocks and\n",
    "how all can be coupled with `gempy`."
   ]
  },
  {
   "cell_type": "code",
   "execution_count": null,
   "metadata": {
    "pycharm": {
     "name": "#%%\n"
    }
   },
   "outputs": [],
   "source": [
    "import gempy as gp\n",
    "import numpy as np\n",
    "%matplotlib inline\n",
    "geo_model = gp.load_model_pickle('checkpoint3.pickle')\n",
    "p3d = gp.plot_3d(geo_model, plotter_type='background', show_topography=False)"
   ]
  },
  {
   "cell_type": "markdown",
   "metadata": {
    "pycharm": {
     "name": "#%% md\n"
    }
   },
   "source": [
    "Let's construct a very simple probabilistic model. We will have only 3 random\n",
    "variables that define the depth of each of the surfaces.\n",
    "\n",
    "First we need to see which surface points we want to modify:"
   ]
  },
  {
   "cell_type": "code",
   "execution_count": null,
   "metadata": {
    "pycharm": {
     "name": "#%%\n"
    }
   },
   "outputs": [],
   "source": []
  },
  {
   "cell_type": "code",
   "execution_count": null,
   "metadata": {
    "pycharm": {
     "name": "#%%\n"
    }
   },
   "outputs": [],
   "source": []
  },
  {
   "cell_type": "markdown",
   "metadata": {
    "pycharm": {
     "name": "#%% md\n"
    }
   },
   "source": [
    "Indices from 0 to 7 are defining the layers of interest.\n",
    "\n",
    "When we define a normal variable we can either doing it by define its absolute\n",
    "position or its variance centering the mean at 0 - for normal distributions the result is the same.\n",
    "For this tutorial I would use the second for convenience."
   ]
  },
  {
   "cell_type": "code",
   "execution_count": null,
   "metadata": {
    "pycharm": {
     "name": "#%%\n"
    }
   },
   "outputs": [],
   "source": [
    "# First we need to store the initial depth location\n",
    "\n"
   ]
  },
  {
   "cell_type": "markdown",
   "metadata": {},
   "source": [
    "We can sample the variance of those values and added it to the initial values:"
   ]
  },
  {
   "cell_type": "code",
   "execution_count": null,
   "metadata": {
    "pycharm": {
     "name": "#%%\n"
    }
   },
   "outputs": [],
   "source": [
    "# Defining the variance for each layer\n"
   ]
  },
  {
   "cell_type": "markdown",
   "metadata": {},
   "source": [
    "And now we can modify the location of `gempy` surface points:"
   ]
  },
  {
   "cell_type": "code",
   "execution_count": null,
   "metadata": {
    "pycharm": {
     "name": "#%%\n"
    }
   },
   "outputs": [],
   "source": []
  },
  {
   "cell_type": "markdown",
   "metadata": {},
   "source": [
    "Once we have the code to sample from the probability space we can make a function out of it..."
   ]
  },
  {
   "cell_type": "code",
   "execution_count": null,
   "metadata": {
    "pycharm": {
     "name": "#%%\n"
    }
   },
   "outputs": [],
   "source": [
    "# We can create a function\n",
    "def sample(silent=True):\n",
    "\n",
    "    \n",
    "    \n",
    "    \n",
    "    \n",
    "    \n",
    "    # Returns the 3d lith array\n",
    "    return geo_model.solutions.lith_block"
   ]
  },
  {
   "cell_type": "markdown",
   "metadata": {},
   "source": [
    "...and now we can call it as often as we want."
   ]
  },
  {
   "cell_type": "code",
   "execution_count": null,
   "metadata": {
    "pycharm": {
     "name": "#%%\n"
    }
   },
   "outputs": [],
   "source": [
    "sample(silent=False)\n"
   ]
  },
  {
   "cell_type": "markdown",
   "metadata": {},
   "source": [
    "By appliying simple Monte Carlo Error propagation we can integrate the unceratinty of the input data with a simple loop:"
   ]
  },
  {
   "cell_type": "code",
   "execution_count": null,
   "metadata": {
    "pycharm": {
     "name": "#%%\n"
    }
   },
   "outputs": [],
   "source": []
  },
  {
   "cell_type": "code",
   "execution_count": null,
   "metadata": {
    "pycharm": {
     "name": "#%%\n"
    }
   },
   "outputs": [],
   "source": []
  },
  {
   "cell_type": "markdown",
   "metadata": {},
   "source": [
    "Visualizing uncertainty and probability in 3D can be challenging. `gempy` comes with some functionality to help with that. The first possibility is to visualize the probability of a occurrence of a given layer:"
   ]
  },
  {
   "cell_type": "code",
   "execution_count": null,
   "metadata": {
    "pycharm": {
     "name": "#%%\n"
    }
   },
   "outputs": [],
   "source": []
  },
  {
   "cell_type": "code",
   "execution_count": null,
   "metadata": {
    "pycharm": {
     "name": "#%%\n"
    }
   },
   "outputs": [],
   "source": [
    "\n"
   ]
  },
  {
   "cell_type": "markdown",
   "metadata": {},
   "source": [
    "To visualize multiple layers, information entropy encapsulate several probability fields in one single metric. This give a general idea of the **uncertain** areas of your domain:"
   ]
  },
  {
   "cell_type": "code",
   "execution_count": null,
   "metadata": {
    "pycharm": {
     "name": "#%%\n"
    }
   },
   "outputs": [],
   "source": [
    "\n"
   ]
  },
  {
   "cell_type": "markdown",
   "metadata": {
    "pycharm": {
     "name": "#%% md\n"
    }
   },
   "source": [
    "## Intro to Bayesian Inference using pymc3\n",
    "\n",
    "Until now we have seen how we can propagate uncertainty from the input parameters to hte full 3D model space. Altough in many occassions this may be useful in itself, as the number of stochastic parameters increase it is relatively difficult to keep geological realism in place.\n",
    "\n",
    "Bayesian inference will allow us not only to have probabilistic models but also to **learn** which of the possible realizations better describe **additional information**.\n",
    "\n",
    "In this chapter we will see how by combining the forward gravity computation with probabilisitc modeling, we can generate an assamble of models that honor - in this case, the gravity - observation.\n",
    "\n",
    "\n",
    "<div class=\"alert alert-block alert-info\"><b>Checkpoint:</b> Next cell will load the\n",
    "model from disk to the necessary state to continue.</div>"
   ]
  },
  {
   "cell_type": "code",
   "execution_count": null,
   "metadata": {},
   "outputs": [],
   "source": [
    "!pip install pymc3\n",
    "# Restart kernel"
   ]
  },
  {
   "cell_type": "code",
   "execution_count": null,
   "metadata": {
    "pycharm": {
     "name": "#%%\n"
    }
   },
   "outputs": [],
   "source": [
    "import gempy as gp\n",
    "import theano\n",
    "\n",
    "%matplotlib inline\n",
    "geo_model = gp.load_model_pickle('checkpoint3.pickle')\n",
    "indices_bool = geo_model.surface_points.df['surface'].isin(['surface1', 'surface2', 'surface3'])\n",
    "indices = geo_model.surface_points.df.index[indices_bool]\n",
    "Z_init = geo_model.surface_points.df.loc[indices, 'Z'].copy()\n",
    "from gempy.bayesian.fields import compute_prob, calculate_ie_masked"
   ]
  },
  {
   "cell_type": "markdown",
   "metadata": {},
   "source": [
    "For this chapter we are going to need a few extra libraries:"
   ]
  },
  {
   "cell_type": "code",
   "execution_count": null,
   "metadata": {
    "pycharm": {
     "name": "#%%\n"
    }
   },
   "outputs": [],
   "source": [
    "import arviz as az\n",
    "import pymc3 as pm\n",
    "import numpy as np\n"
   ]
  },
  {
   "cell_type": "markdown",
   "metadata": {},
   "source": [
    "### Replicating the previous example in pymc3\n",
    "\n",
    "The first step is going to replicate the previous exercise now in `pymc3`. `pymc3` relay on `theano` for automatic differentiation which enable state-of-the-art samplers."
   ]
  },
  {
   "cell_type": "code",
   "execution_count": null,
   "metadata": {
    "pycharm": {
     "name": "#%%\n"
    }
   },
   "outputs": [],
   "source": [
    "import theano.tensor as tt\n",
    "\n",
    "def sample_grav(Z_var2):\n",
    "    Z_loc = np.hstack([Z_init[[1,2,0]] + Z_var2[0],\n",
    "                       Z_init[[3, 4]] + Z_var2[1],\n",
    "                       Z_init[[5, 6, 7]] + Z_var2[2]])\n",
    "\n",
    "\n",
    "    geo_model.modify_surface_points(indices, Z=Z_loc)\n",
    "    gp.compute_model(geo_model)\n",
    "\n",
    "    # Returns the 3d lith array\n",
    "    return geo_model.solutions.fw_gravity\n",
    "\n",
    "def sample_lith(Z_var):\n",
    "    Z_loc = np.hstack([Z_init[[1,2,0]] + Z_var[0],\n",
    "                   Z_init[[3, 4]] + Z_var[1],\n",
    "                   Z_init[[5, 6, 7]] + Z_var[2]])\n",
    "\n",
    "\n",
    "    geo_model.modify_surface_points(indices, Z=Z_loc)\n",
    "    gp.compute_model(geo_model)\n",
    "\n",
    "    # Returns the 3d lith array\n",
    "    return geo_model.solutions.lith_block\n",
    "\n",
    "\n",
    "class GemPyGrav(tt.Op):\n",
    "    itypes = [tt.fvector]\n",
    "    otypes = [tt.dvector]\n",
    "\n",
    "    def perform(self, node, inputs, outputs):\n",
    "        theta, = inputs\n",
    "        mu = sample_grav(theta)\n",
    "        outputs[0][0] = np.array(mu)\n",
    "\n",
    "class GemPyLith(tt.Op):\n",
    "    itypes = [tt.fvector]\n",
    "    otypes = [tt.dvector]\n",
    "\n",
    "    def perform(self, node, inputs, outputs):\n",
    "        theta, = inputs\n",
    "        mu = sample_lith(theta)\n",
    "        outputs[0][0] = np.array(mu)\n",
    "\n",
    "gempy_grav = GemPyGrav()\n",
    "gempy_lith = GemPyLith()"
   ]
  },
  {
   "cell_type": "code",
   "execution_count": null,
   "metadata": {
    "pycharm": {
     "name": "#%%\n"
    }
   },
   "outputs": [],
   "source": [
    "with pm.Model() as model:\n"
   ]
  },
  {
   "cell_type": "code",
   "execution_count": null,
   "metadata": {
    "pycharm": {
     "name": "#%%\n"
    },
    "scrolled": false
   },
   "outputs": [],
   "source": [
    "with model:\n",
    "   "
   ]
  },
  {
   "cell_type": "code",
   "execution_count": null,
   "metadata": {
    "pycharm": {
     "is_executing": true,
     "name": "#%%\n"
    }
   },
   "outputs": [],
   "source": [
    "#data = az.from_pymc3(trace=trace)\n",
    "#data.to_netcdf('error_propagation')"
   ]
  },
  {
   "cell_type": "code",
   "execution_count": null,
   "metadata": {},
   "outputs": [],
   "source": [
    "data = az.from_netcdf('error_propagation')"
   ]
  },
  {
   "cell_type": "code",
   "execution_count": null,
   "metadata": {},
   "outputs": [],
   "source": [
    "data.posterior"
   ]
  },
  {
   "cell_type": "code",
   "execution_count": null,
   "metadata": {},
   "outputs": [],
   "source": [
    "az.plot_trace(data, var_names=['Z_var', 'gravity']);"
   ]
  },
  {
   "cell_type": "code",
   "execution_count": null,
   "metadata": {},
   "outputs": [],
   "source": [
    "lith_blocks = data.posterior.lithologies.values[0]"
   ]
  },
  {
   "cell_type": "code",
   "execution_count": null,
   "metadata": {},
   "outputs": [],
   "source": [
    "lith_blocks"
   ]
  },
  {
   "cell_type": "code",
   "execution_count": null,
   "metadata": {},
   "outputs": [],
   "source": [
    "prob_block = compute_prob(lith_blocks)\n"
   ]
  },
  {
   "cell_type": "code",
   "execution_count": null,
   "metadata": {},
   "outputs": [],
   "source": [
    "layer = 2\n",
    "p2dp = gp.plot_2d(geo_model,\n",
    "                  show_lith=False, show_boundaries=False, show_data=False,\n",
    "                  regular_grid=prob_block[layer],\n",
    "                  kwargs_regular_grid={'cmap': 'viridis',\n",
    "                                        'norm': None}\n",
    "                  )"
   ]
  },
  {
   "cell_type": "code",
   "execution_count": null,
   "metadata": {},
   "outputs": [],
   "source": [
    "entropy_block = calculate_ie_masked(prob_block)\n",
    "p2dp = gp.plot_2d(geo_model,\n",
    "                  show_lith=False, show_boundaries=False, show_data=False,\n",
    "                  regular_grid=entropy_block,\n",
    "                  kwargs_regular_grid={'cmap': 'magma',\n",
    "                                       'norm': None}\n",
    "                  )\n"
   ]
  },
  {
   "cell_type": "markdown",
   "metadata": {
    "pycharm": {
     "name": "#%% md\n"
    }
   },
   "source": [
    "-----------------\n",
    "### Bayesian Inference\n"
   ]
  },
  {
   "cell_type": "code",
   "execution_count": null,
   "metadata": {
    "pycharm": {
     "name": "#%%\n"
    }
   },
   "outputs": [],
   "source": [
    "with pm.Model() as model_like:\n",
    "\n",
    "    Z_var = pm.Normal('Z_var', 0, 30, dtype='float32', shape=3)\n",
    "    grav = pm.Deterministic('gravity', gempy_grav(Z_var))\n",
    "    lith = pm.Deterministic('lithologies', gempy_lith(Z_var))\n"
   ]
  },
  {
   "cell_type": "code",
   "execution_count": null,
   "metadata": {
    "pycharm": {
     "name": "#%%\n"
    }
   },
   "outputs": [],
   "source": [
    "with model_like:\n",
    "    trace_like =\n",
    "\n",
    "\n"
   ]
  },
  {
   "cell_type": "code",
   "execution_count": null,
   "metadata": {},
   "outputs": [],
   "source": [
    "# data = az.from_pymc3(trace=trace_like)\n",
    "# data.to_netcdf('bayes_inference')"
   ]
  },
  {
   "cell_type": "code",
   "execution_count": null,
   "metadata": {},
   "outputs": [],
   "source": [
    "data = az.from_netcdf('bayes_inference')"
   ]
  },
  {
   "cell_type": "code",
   "execution_count": null,
   "metadata": {},
   "outputs": [],
   "source": [
    "az.plot_trace(data, var_names=['Z_var', 'gravity'])"
   ]
  },
  {
   "cell_type": "code",
   "execution_count": null,
   "metadata": {
    "pycharm": {
     "name": "#%%\n"
    }
   },
   "outputs": [],
   "source": [
    "lith_blocks = data.posterior.lithologies.values[0]"
   ]
  },
  {
   "cell_type": "code",
   "execution_count": null,
   "metadata": {},
   "outputs": [],
   "source": [
    "prob_block = compute_prob(lith_blocks)"
   ]
  },
  {
   "cell_type": "code",
   "execution_count": null,
   "metadata": {},
   "outputs": [],
   "source": [
    "layer = 2\n",
    "p2dp = gp.plot_2d(geo_model,\n",
    "                  show_lith=False, show_boundaries=False, show_data=False,\n",
    "                  regular_grid=prob_block[layer],\n",
    "                  kwargs_regular_grid={'cmap': 'viridis',\n",
    "                                        'norm': None}\n",
    "                  )"
   ]
  },
  {
   "cell_type": "code",
   "execution_count": null,
   "metadata": {
    "pycharm": {
     "name": "#%%\n"
    }
   },
   "outputs": [],
   "source": [
    "entropy_block = calculate_ie_masked(prob_block)\n",
    "p2dp = gp.plot_2d(geo_model,\n",
    "                  show_lith=False, show_boundaries=False, show_data=False,\n",
    "                  regular_grid=entropy_block,\n",
    "                  kwargs_regular_grid={'cmap': 'magma',\n",
    "                                       'norm': None}\n",
    "                  )\n"
   ]
  },
  {
   "cell_type": "markdown",
   "metadata": {},
   "source": [
    "-----\n",
    "\n",
    "## Thank you for your attention\n",
    "\n",
    "\n",
    "#### Extra Resources\n",
    "\n",
    "Page:\n",
    "https://www.gempy.org/\n",
    "\n",
    "Paper:\n",
    "https://www.gempy.org/theory\n",
    "\n",
    "Gitub:\n",
    "https://github.com/cgre-aachen/gempy\n",
    "\n",
    "#### Further training and collaborations\n",
    "https://www.terranigma-solutions.com/\n",
    "\n",
    "![image.png](logos/tn.png)\n",
    "\n"
   ]
  },
  {
   "cell_type": "code",
   "execution_count": null,
   "metadata": {},
   "outputs": [],
   "source": []
  }
 ],
 "metadata": {
  "jupytext": {
   "split_at_heading": true
  },
  "kernelspec": {
   "display_name": "Python 3",
   "language": "python",
   "name": "python3"
  },
  "language_info": {
   "codemirror_mode": {
    "name": "ipython",
    "version": 3
   },
   "file_extension": ".py",
   "mimetype": "text/x-python",
   "name": "python",
   "nbconvert_exporter": "python",
   "pygments_lexer": "ipython3",
   "version": "3.7.4"
  }
 },
 "nbformat": 4,
 "nbformat_minor": 2
}
